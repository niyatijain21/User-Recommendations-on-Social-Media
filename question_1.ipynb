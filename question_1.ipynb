{
 "cells": [
  {
   "cell_type": "code",
   "execution_count": 1,
   "metadata": {},
   "outputs": [],
   "source": [
    "import re\n",
    "import sys\n",
    "import itertools\n",
    "from pyspark import SparkConf, SparkContext\n",
    "conf = SparkConf()\n",
    "sc = SparkContext.getOrCreate(conf=conf)"
   ]
  },
  {
   "cell_type": "code",
   "execution_count": 4,
   "metadata": {},
   "outputs": [],
   "source": [
    "def makefriendpairs(line):\n",
    "    split = line.split()\n",
    "    userid = int(split[0])\n",
    "    if len(split) == 1:\n",
    "        friends = []\n",
    "    else:\n",
    "        friends = list(map(lambda x: int(x), split[1].split(',')))\n",
    "    return userid, friends"
   ]
  },
  {
   "cell_type": "code",
   "execution_count": 5,
   "metadata": {},
   "outputs": [],
   "source": [
    "def makeconnections(friendships):\n",
    "    userid = friendships[0]\n",
    "    friends = friendships[1]\n",
    "    connections = []\n",
    "    for friend in friends:\n",
    "        key = (userid, friend)\n",
    "        if userid > friend:\n",
    "            key = (friend, userid)\n",
    "        connections.append((key, 0))\n",
    "    for pairs in itertools.combinations(friends, 2):\n",
    "        f1 = pairs[0]\n",
    "        f2 = pairs[1]\n",
    "        key = (f1, f2)\n",
    "        if f1 > f2:\n",
    "            key = (f2, f1)\n",
    "        connections.append((key, 1))\n",
    "    return connections"
   ]
  },
  {
   "cell_type": "code",
   "execution_count": 6,
   "metadata": {},
   "outputs": [],
   "source": [
    "def makerecommendations(mutual):\n",
    "    pair = mutual[0]\n",
    "    count = mutual[1]\n",
    "    f1 = pair[0]\n",
    "    f2 = pair[1]\n",
    "    rec1 = (f1, (f2, count))\n",
    "    rec2 = (f2, (f1, count))\n",
    "    return [rec1, rec2]"
   ]
  },
  {
   "cell_type": "code",
   "execution_count": 7,
   "metadata": {},
   "outputs": [],
   "source": [
    "def sortrecommendations(recs):\n",
    "    recs.sort(key = lambda x: (-int(x[1]), int(x[0])))\n",
    "    return list(map(lambda x: x[0], recs))[:10]"
   ]
  },
  {
   "cell_type": "code",
   "execution_count": 8,
   "metadata": {},
   "outputs": [
    {
     "name": "stderr",
     "output_type": "stream",
     "text": [
      "                                                                                \r"
     ]
    },
    {
     "name": "stdout",
     "output_type": "stream",
     "text": [
      "PythonRDD[25] at RDD at PythonRDD.scala:53\n"
     ]
    }
   ],
   "source": [
    "users = sc.textFile('soc-LiveJournal1Adj.txt')\n",
    "\n",
    "pairs = users.map(makefriendpairs)\n",
    "\n",
    "connections = pairs.flatMap(makeconnections)\n",
    "\n",
    "mutualconnections = connections.groupByKey().filter(lambda pair: 0 not in pair[1]).map(lambda pair:(pair[0], sum(pair[1])))\n",
    "mutualconnections.cache()\n",
    "\n",
    "recommendations = mutualconnections.flatMap(makerecommendations)\n",
    "\n",
    "sortedrecommendations = recommendations.groupByKey().map(lambda mf: (mf[0], sortrecommendations(list(mf[1]))))\n",
    "\n",
    "finalanswer = sortedrecommendations.filter(lambda recs: recs[0] in [924, 8941, 8942, 9019, 9020, 9021, 9022, 9990, 9992, 9993]).sortByKey()\n",
    "\n",
    "finalanswer.saveAsTextFile('Question1')"
   ]
  },
  {
   "cell_type": "code",
   "execution_count": null,
   "metadata": {},
   "outputs": [],
   "source": [
    "sc.stop()"
   ]
  }
 ],
 "metadata": {
  "kernelspec": {
   "display_name": "Python 3.9.13 ('base')",
   "language": "python",
   "name": "python3"
  },
  "language_info": {
   "codemirror_mode": {
    "name": "ipython",
    "version": 3
   },
   "file_extension": ".py",
   "mimetype": "text/x-python",
   "name": "python",
   "nbconvert_exporter": "python",
   "pygments_lexer": "ipython3",
   "version": "3.9.13"
  },
  "orig_nbformat": 4,
  "vscode": {
   "interpreter": {
    "hash": "db17cbfc0f0d5752ce8c7f165e0cef4e8bd3dfd2a202437f2c0ce176edf396f9"
   }
  }
 },
 "nbformat": 4,
 "nbformat_minor": 2
}
